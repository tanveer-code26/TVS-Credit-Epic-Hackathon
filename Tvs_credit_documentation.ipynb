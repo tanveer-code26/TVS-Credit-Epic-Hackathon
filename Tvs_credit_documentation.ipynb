{
 "cells": [
  {
   "cell_type": "code",
   "execution_count": 11,
   "metadata": {},
   "outputs": [
    {
     "name": "stdout",
     "output_type": "stream",
     "text": [
      "Requirement already satisfied: python-docx in c:\\users\\sarda\\anaconda3\\lib\\site-packages (1.1.2)Note: you may need to restart the kernel to use updated packages.\n",
      "\n",
      "Requirement already satisfied: lxml>=3.1.0 in c:\\users\\sarda\\anaconda3\\lib\\site-packages (from python-docx) (5.2.1)\n",
      "Requirement already satisfied: typing-extensions>=4.9.0 in c:\\users\\sarda\\anaconda3\\lib\\site-packages (from python-docx) (4.11.0)\n"
     ]
    }
   ],
   "source": [
    "pip install python-docx"
   ]
  },
  {
   "cell_type": "code",
   "execution_count": 3,
   "metadata": {},
   "outputs": [
    {
     "data": {
      "text/plain": [
       "'Case_Study_Solution_Customer_Service.docx'"
      ]
     },
     "execution_count": 3,
     "metadata": {},
     "output_type": "execute_result"
    }
   ],
   "source": [
    "from docx import Document\n",
    "\n",
    "# Create a new Document\n",
    "doc = Document()\n",
    "\n",
    "# Add a title\n",
    "doc.add_heading('Case Study Solution: Customer Service', level=1)\n",
    "\n",
    "# Add an introduction\n",
    "doc.add_heading('1. Understanding of the Problem', level=2)\n",
    "doc.add_paragraph(\n",
    "    \"The primary objective of this case study is to enhance customer service by analyzing user interactions, \"\n",
    "    \"predicting customer satisfaction, and identifying areas for improvement. The dataset includes variables related to \"\n",
    "    \"user demographics, interaction history, and service channels.\"\n",
    ")\n",
    "\n",
    "# Add the approach\n",
    "doc.add_heading('2. Approach', level=2)\n",
    "doc.add_paragraph(\n",
    "    \"The approach involves data preprocessing, feature engineering, model training, and evaluation. \"\n",
    "    \"Data preprocessing includes handling missing values, encoding categorical features, and scaling numerical features. \"\n",
    "    \"SMOTE is applied to address class imbalance in the target variable.\"\n",
    ")\n",
    "\n",
    "# Add the expected benefits\n",
    "doc.add_heading('3. Expected Benefits', level=2)\n",
    "doc.add_paragraph(\n",
    "    \"The expected benefits include improved customer satisfaction prediction, better resource allocation in customer \"\n",
    "    \"service, and the ability to proactively address potential issues before they escalate.\"\n",
    ")\n",
    "\n",
    "# Add the algorithm used\n",
    "doc.add_heading('4. Algorithm Used', level=2)\n",
    "doc.add_paragraph(\n",
    "    \"Random Forest Classifier is used for the prediction task due to its robustness and ability to handle mixed data types.\"\n",
    ")\n",
    "\n",
    "# Add the final evaluation metric\n",
    "doc.add_heading('5. Final Evaluation Metric', level=2)\n",
    "doc.add_paragraph(\n",
    "    \"The final model is evaluated using metrics such as accuracy, precision, recall, and F1-score to ensure \"\n",
    "    \"it performs well across various dimensions of prediction.\"\n",
    ")\n",
    "\n",
    "# Save the document in the current working directory\n",
    "file_path = \"Case_Study_Solution_Customer_Service.docx\"\n",
    "doc.save(file_path)\n",
    "\n",
    "file_path\n"
   ]
  },
  {
   "cell_type": "code",
   "execution_count": 16,
   "metadata": {},
   "outputs": [
    {
     "name": "stdout",
     "output_type": "stream",
     "text": [
      "Document saved at: f:\\Thapar\\Hackathons\\Tvs credit hackathon\\Case_Study_Solution_Customer_Service2.docx\n"
     ]
    }
   ],
   "source": [
    "from docx import Document\n",
    "import os\n",
    "\n",
    "# Create a new Document\n",
    "doc = Document()\n",
    "\n",
    "# Add Title\n",
    "doc.add_heading('Case Study Solution: Customer Service Vertical', 0)\n",
    "\n",
    "# Section 1: Understanding of the Problem\n",
    "doc.add_heading('Understanding of the Problem', level=1)\n",
    "doc.add_paragraph(\n",
    "    \"The case study focuses on enhancing customer service efficiency by analyzing historical data. \"\n",
    "    \"The objective is to predict certain customer behaviors based on features such as age, location, \"\n",
    "    \"portfolio type, and interaction history. This prediction helps in personalizing customer interactions, \"\n",
    "    \"leading to improved customer satisfaction and retention.\"\n",
    ")\n",
    "\n",
    "# Section 2: Approach\n",
    "doc.add_heading('Approach', level=1)\n",
    "doc.add_paragraph(\n",
    "    \"1. **Exploratory Data Analysis (EDA):** Conducted initial data exploration to understand data distribution, \"\n",
    "    \"identify missing values, and detect outliers.\\n\"\n",
    "    \"2. **Data Imputation:** Handled missing data using SimpleImputer with the most frequent strategy.\\n\"\n",
    "    \"3. **Feature Engineering:** Encoded categorical variables using OneHotEncoder and scaled numerical features using StandardScaler.\\n\"\n",
    "    \"4. **Class Imbalance Handling:** Utilized SMOTE (Synthetic Minority Over-sampling Technique) to balance the dataset by oversampling the minority class.\\n\"\n",
    "    \"5. **Model Training:** Trained a machine learning model using the processed dataset to predict customer behavior.\"\n",
    ")\n",
    "\n",
    "# Section 3: Expected Benefit (Value)\n",
    "doc.add_heading('Expected Benefit (Value)', level=1)\n",
    "doc.add_paragraph(\n",
    "    \"The solution enables accurate predictions of customer behaviors, allowing the customer service team to proactively \"\n",
    "    \"address potential issues. This approach improves customer satisfaction and retention by providing personalized and efficient service.\"\n",
    ")\n",
    "\n",
    "# Section 4: Algorithm Used\n",
    "doc.add_heading('Algorithm Used', level=1)\n",
    "doc.add_paragraph(\n",
    "    \"1. **Imputation:** SimpleImputer with the most frequent strategy.\\n\"\n",
    "    \"2. **Encoding:** OneHotEncoder for categorical features.\\n\"\n",
    "    \"3. **Scaling:** StandardScaler for numerical features.\\n\"\n",
    "    \"4. **Balancing:** SMOTE for handling class imbalance.\\n\"\n",
    "    \"5. **Modeling:** Machine learning model to predict customer behavior.\"\n",
    ")\n",
    "\n",
    "# Section 5: Final Evaluation Metric\n",
    "doc.add_heading('Final Evaluation Metric', level=1)\n",
    "doc.add_paragraph(\n",
    "    \"The model's performance was evaluated using metrics such as accuracy and F1 score, ensuring a balanced measure \"\n",
    "    \"of precision and recall, particularly in the context of class imbalance.\"\n",
    ")\n",
    "\n",
    "# Add a code section\n",
    "doc.add_heading('Code Implementation', level=1)\n",
    "doc.add_paragraph(\n",
    "    \"Below is a summary of the key code implementations used in the solution:\"\n",
    ")\n",
    "doc.add_paragraph(\n",
    "    \"```python\\n\"\n",
    "    \"# Impute missing values\\n\"\n",
    "    \"imputer = SimpleImputer(strategy='most_frequent')\\n\"\n",
    "    \"data_imputed = pd.DataFrame(imputer.fit_transform(data), columns=data.columns)\\n\\n\"\n",
    "    \"# Encoding categorical variables\\n\"\n",
    "    \"categorical_features = ['State', 'Location', 'portf']\\n\"\n",
    "    \"encoder = OneHotEncoder(sparse=False, drop='first')\\n\"\n",
    "    \"encoded_features = encoder.fit_transform(data_imputed[categorical_features])\\n\\n\"\n",
    "    \"# Combine encoded features with the original dataset (excluding original categorical columns)\\n\"\n",
    "    \"X = pd.concat([data_imputed.drop(columns=categorical_features), pd.DataFrame(encoded_features)], axis=1)\\n\\n\"\n",
    "    \"# Scaling numerical features\\n\"\n",
    "    \"scaler = StandardScaler()\\n\"\n",
    "    \"numerical_features = ['AGE_BAND_NEW', 'DAY_DIFF', 'cbs_band']\\n\"\n",
    "    \"X[numerical_features] = scaler.fit_transform(X[numerical_features])\\n\\n\"\n",
    "    \"# Target variable\\n\"\n",
    "    \"y = data_imputed['chan']\\n\\n\"\n",
    "    \"# Handle class imbalance using SMOTE\\n\"\n",
    "    \"smote = SMOTE(random_state=42)\\n\"\n",
    "    \"X_resampled, y_resampled = smote.fit_resample(X, y)\\n\"\n",
    "    \"```\"\n",
    ")\n",
    "\n",
    "# Save the document in the current working directory\n",
    "file_path = os.path.join(\"\", \"Case_Study_Solution_Customer_Service2.docx\")\n",
    "doc.save(file_path)\n",
    "\n",
    "print(f\"Document saved at: {os.path.abspath(file_path)}\")\n"
   ]
  },
  {
   "cell_type": "code",
   "execution_count": 13,
   "metadata": {},
   "outputs": [
    {
     "name": "stdout",
     "output_type": "stream",
     "text": [
      "Document successfully saved at: /mnt/data/Case_Study_Solution_Customer_Service2.docx\n"
     ]
    }
   ],
   "source": [
    "if os.path.isfile(file_path):\n",
    "    print(f\"Document successfully saved at: {file_path}\")\n",
    "else:\n",
    "    print(\"Error: Document was not saved successfully.\")\n"
   ]
  }
 ],
 "metadata": {
  "kernelspec": {
   "display_name": "Python 3",
   "language": "python",
   "name": "python3"
  },
  "language_info": {
   "codemirror_mode": {
    "name": "ipython",
    "version": 3
   },
   "file_extension": ".py",
   "mimetype": "text/x-python",
   "name": "python",
   "nbconvert_exporter": "python",
   "pygments_lexer": "ipython3",
   "version": "3.12.4"
  }
 },
 "nbformat": 4,
 "nbformat_minor": 2
}
